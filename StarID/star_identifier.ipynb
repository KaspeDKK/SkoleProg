{
 "cells": [
  {
   "cell_type": "code",
   "execution_count": 1,
   "metadata": {},
   "outputs": [
    {
     "data": {
      "text/html": [
       "<div>\n",
       "<style scoped>\n",
       "    .dataframe tbody tr th:only-of-type {\n",
       "        vertical-align: middle;\n",
       "    }\n",
       "\n",
       "    .dataframe tbody tr th {\n",
       "        vertical-align: top;\n",
       "    }\n",
       "\n",
       "    .dataframe thead th {\n",
       "        text-align: right;\n",
       "    }\n",
       "</style>\n",
       "<table border=\"1\" class=\"dataframe\">\n",
       "  <thead>\n",
       "    <tr style=\"text-align: right;\">\n",
       "      <th></th>\n",
       "      <th>Temperature</th>\n",
       "      <th>L</th>\n",
       "      <th>R</th>\n",
       "      <th>A_M</th>\n",
       "      <th>Color</th>\n",
       "      <th>Spectral_Class</th>\n",
       "      <th>Type</th>\n",
       "    </tr>\n",
       "  </thead>\n",
       "  <tbody>\n",
       "    <tr>\n",
       "      <th>0</th>\n",
       "      <td>3068</td>\n",
       "      <td>0.002400</td>\n",
       "      <td>0.1700</td>\n",
       "      <td>16.12</td>\n",
       "      <td>Red</td>\n",
       "      <td>M</td>\n",
       "      <td>0</td>\n",
       "    </tr>\n",
       "    <tr>\n",
       "      <th>1</th>\n",
       "      <td>3042</td>\n",
       "      <td>0.000500</td>\n",
       "      <td>0.1542</td>\n",
       "      <td>16.60</td>\n",
       "      <td>Red</td>\n",
       "      <td>M</td>\n",
       "      <td>0</td>\n",
       "    </tr>\n",
       "    <tr>\n",
       "      <th>2</th>\n",
       "      <td>2600</td>\n",
       "      <td>0.000300</td>\n",
       "      <td>0.1020</td>\n",
       "      <td>18.70</td>\n",
       "      <td>Red</td>\n",
       "      <td>M</td>\n",
       "      <td>0</td>\n",
       "    </tr>\n",
       "    <tr>\n",
       "      <th>3</th>\n",
       "      <td>2800</td>\n",
       "      <td>0.000200</td>\n",
       "      <td>0.1600</td>\n",
       "      <td>16.65</td>\n",
       "      <td>Red</td>\n",
       "      <td>M</td>\n",
       "      <td>0</td>\n",
       "    </tr>\n",
       "    <tr>\n",
       "      <th>4</th>\n",
       "      <td>1939</td>\n",
       "      <td>0.000138</td>\n",
       "      <td>0.1030</td>\n",
       "      <td>20.06</td>\n",
       "      <td>Red</td>\n",
       "      <td>M</td>\n",
       "      <td>0</td>\n",
       "    </tr>\n",
       "  </tbody>\n",
       "</table>\n",
       "</div>"
      ],
      "text/plain": [
       "   Temperature         L       R    A_M Color Spectral_Class  Type\n",
       "0         3068  0.002400  0.1700  16.12   Red              M     0\n",
       "1         3042  0.000500  0.1542  16.60   Red              M     0\n",
       "2         2600  0.000300  0.1020  18.70   Red              M     0\n",
       "3         2800  0.000200  0.1600  16.65   Red              M     0\n",
       "4         1939  0.000138  0.1030  20.06   Red              M     0"
      ]
     },
     "execution_count": 1,
     "metadata": {},
     "output_type": "execute_result"
    }
   ],
   "source": [
    "import pandas as pd\n",
    "import numpy as np\n",
    "import matplotlib.pyplot as plt\n",
    "from sklearn import tree\n",
    "from sklearn.tree import DecisionTreeClassifier # Import Decision Tree Classifier\n",
    "from sklearn.model_selection import train_test_split # Import train_test_split function\n",
    "from sklearn import metrics #Import scikit-learn metrics module for accuracy calculation\n",
    "import pickle\n",
    "\n",
    "\"\"\"\n",
    "Red Dwarf - 0\n",
    "Brown Dwarf - 1\n",
    "White Dwarf - 2\n",
    "Main Sequence - 3\n",
    "Super Giants - 4\n",
    "Hyper Giants - 5\n",
    "\n",
    "Temperature -- K\n",
    "L -- L/Lo\n",
    "R -- R/Ro\n",
    "AM -- Mv\n",
    "Color -- General Color of Spectrum\n",
    "Spectral_Class -- O,B,A,F,G,K,M / SMASS - https://en.wikipedia.org/wiki/Asteroid_spectral_types\n",
    "Type -- Red Dwarf, Brown Dwarf, White Dwarf, Main Sequence , Super Giants, Hyper Giants\n",
    "\"\"\"\n",
    "\n",
    "# Read the CSV file\n",
    "stars = pd.read_csv(\"data/Stars.csv\")\n",
    "stars_original = pd.read_csv(\"data/Stars.csv\")\n",
    "\n",
    "# Remove any Empty Rows\n",
    "stars = stars.dropna()\n",
    "\n",
    "stars.head()"
   ]
  },
  {
   "cell_type": "code",
   "execution_count": 2,
   "metadata": {},
   "outputs": [
    {
     "data": {
      "text/html": [
       "<div>\n",
       "<style scoped>\n",
       "    .dataframe tbody tr th:only-of-type {\n",
       "        vertical-align: middle;\n",
       "    }\n",
       "\n",
       "    .dataframe tbody tr th {\n",
       "        vertical-align: top;\n",
       "    }\n",
       "\n",
       "    .dataframe thead th {\n",
       "        text-align: right;\n",
       "    }\n",
       "</style>\n",
       "<table border=\"1\" class=\"dataframe\">\n",
       "  <thead>\n",
       "    <tr style=\"text-align: right;\">\n",
       "      <th></th>\n",
       "      <th>Temperature</th>\n",
       "      <th>L</th>\n",
       "      <th>R</th>\n",
       "      <th>A_M</th>\n",
       "      <th>Color</th>\n",
       "      <th>Spectral_Class</th>\n",
       "      <th>Type</th>\n",
       "    </tr>\n",
       "  </thead>\n",
       "  <tbody>\n",
       "    <tr>\n",
       "      <th>0</th>\n",
       "      <td>3068</td>\n",
       "      <td>0.002400</td>\n",
       "      <td>0.1700</td>\n",
       "      <td>16.12</td>\n",
       "      <td>0</td>\n",
       "      <td>6</td>\n",
       "      <td>0</td>\n",
       "    </tr>\n",
       "    <tr>\n",
       "      <th>1</th>\n",
       "      <td>3042</td>\n",
       "      <td>0.000500</td>\n",
       "      <td>0.1542</td>\n",
       "      <td>16.60</td>\n",
       "      <td>0</td>\n",
       "      <td>6</td>\n",
       "      <td>0</td>\n",
       "    </tr>\n",
       "    <tr>\n",
       "      <th>2</th>\n",
       "      <td>2600</td>\n",
       "      <td>0.000300</td>\n",
       "      <td>0.1020</td>\n",
       "      <td>18.70</td>\n",
       "      <td>0</td>\n",
       "      <td>6</td>\n",
       "      <td>0</td>\n",
       "    </tr>\n",
       "    <tr>\n",
       "      <th>3</th>\n",
       "      <td>2800</td>\n",
       "      <td>0.000200</td>\n",
       "      <td>0.1600</td>\n",
       "      <td>16.65</td>\n",
       "      <td>0</td>\n",
       "      <td>6</td>\n",
       "      <td>0</td>\n",
       "    </tr>\n",
       "    <tr>\n",
       "      <th>4</th>\n",
       "      <td>1939</td>\n",
       "      <td>0.000138</td>\n",
       "      <td>0.1030</td>\n",
       "      <td>20.06</td>\n",
       "      <td>0</td>\n",
       "      <td>6</td>\n",
       "      <td>0</td>\n",
       "    </tr>\n",
       "  </tbody>\n",
       "</table>\n",
       "</div>"
      ],
      "text/plain": [
       "   Temperature         L       R    A_M  Color  Spectral_Class  Type\n",
       "0         3068  0.002400  0.1700  16.12      0               6     0\n",
       "1         3042  0.000500  0.1542  16.60      0               6     0\n",
       "2         2600  0.000300  0.1020  18.70      0               6     0\n",
       "3         2800  0.000200  0.1600  16.65      0               6     0\n",
       "4         1939  0.000138  0.1030  20.06      0               6     0"
      ]
     },
     "execution_count": 2,
     "metadata": {},
     "output_type": "execute_result"
    }
   ],
   "source": [
    "d = {0: 0, 1: 1, 2: 2, 3: 3, 4: 4, 5: 5}\n",
    "stars['Type'] = stars['Type'].map(d)\n",
    "\n",
    "# Merge similar color names\n",
    "stars['Color'] = stars['Color'].str.lower()  # Convert to lowercase to ensure consistency\n",
    "stars['Color'] = stars['Color'].replace({\n",
    "    'blue white': 'blue-white',\n",
    "    'yellow-white': 'white-yellow',\n",
    "    'yellowish white': 'yellowish'\n",
    "})\n",
    "\n",
    "# Encode the colors\n",
    "color = {\n",
    "    'red': 0, \n",
    "    'blue-white': 1, \n",
    "    'white': 2, \n",
    "    'blue': 3, \n",
    "    'yellowish': 4, \n",
    "    'pale yellow orange': 5, \n",
    "    'whitish': 6, \n",
    "    'white-yellow': 7, \n",
    "    'orange': 8, \n",
    "    'orange-red': 9\n",
    "}\n",
    "stars['Color'] = stars['Color'].map(color)\n",
    "\n",
    "# Define the encoding dictionary for Spectral_Class\n",
    "spectral_class = {\n",
    "    'O': 0,\n",
    "    'B': 1,\n",
    "    'A': 2,\n",
    "    'F': 3,\n",
    "    'G': 4,\n",
    "    'K': 5,\n",
    "    'M': 6\n",
    "}\n",
    "\n",
    "# Encode the Spectral_Class column\n",
    "stars['Spectral_Class'] = stars['Spectral_Class'].map(spectral_class)\n",
    "\n",
    "stars.head()"
   ]
  },
  {
   "cell_type": "code",
   "execution_count": 3,
   "metadata": {},
   "outputs": [
    {
     "name": "stdout",
     "output_type": "stream",
     "text": [
      "     Temperature              L          R    A_M  Color  Spectral_Class\n",
      "0           3068       0.002400     0.1700  16.12      0               6\n",
      "1           3042       0.000500     0.1542  16.60      0               6\n",
      "2           2600       0.000300     0.1020  18.70      0               6\n",
      "3           2800       0.000200     0.1600  16.65      0               6\n",
      "4           1939       0.000138     0.1030  20.06      0               6\n",
      "..           ...            ...        ...    ...    ...             ...\n",
      "235        38940  374830.000000  1356.0000  -9.93      3               0\n",
      "236        30839  834042.000000  1194.0000 -10.63      3               0\n",
      "237         8829  537493.000000  1423.0000 -10.73      2               2\n",
      "238         9235  404940.000000  1112.0000 -11.23      2               2\n",
      "239        37882  294903.000000  1783.0000  -7.80      3               0\n",
      "\n",
      "[240 rows x 6 columns]\n",
      "0      0\n",
      "1      0\n",
      "2      0\n",
      "3      0\n",
      "4      0\n",
      "      ..\n",
      "235    5\n",
      "236    5\n",
      "237    5\n",
      "238    5\n",
      "239    5\n",
      "Name: Type, Length: 240, dtype: int64\n"
     ]
    }
   ],
   "source": [
    "features = ['Temperature', 'L', 'R', 'A_M', 'Color', 'Spectral_Class']\n",
    "\n",
    "X = stars[features]\n",
    "y = stars['Type']\n",
    "\n",
    "# Split dataset into training set and test set\n",
    "X_train, X_test, y_train, y_test = train_test_split(X, y, test_size=0.5, random_state=1) # 50% training and 50% test\n",
    "\n",
    "print(X)\n",
    "print(y)"
   ]
  },
  {
   "cell_type": "code",
   "execution_count": 4,
   "metadata": {},
   "outputs": [
    {
     "data": {
      "image/png": "[encoded data removed]",
      "text/plain": [
       "<Figure size 640x480 with 1 Axes>"
      ]
     },
     "metadata": {},
     "output_type": "display_data"
    }
   ],
   "source": [
    "dtree = DecisionTreeClassifier()\n",
    "dtree = dtree.fit(X_train,y_train)\n",
    "\n",
    "tree.plot_tree(dtree, feature_names=features)\n",
    "\n",
    "# Save the figure to a file\n",
    "plt.savefig('stars_plot.png', dpi=300, format='png')\n"
   ]
  },
  {
   "cell_type": "markdown",
   "metadata": {},
   "source": [
    "\t39.5\t17.4\t186.0\t3800.0\t0 -> Adelie Penguin\n",
    "\t'Temperature', 'L', 'R', 'A_M', 'Color', 'Spectral_Class'\n",
    "\t3600,0.0029,0.51,10.69,0,6\n"
   ]
  },
  {
   "cell_type": "code",
   "execution_count": 5,
   "metadata": {},
   "outputs": [
    {
     "name": "stdout",
     "output_type": "stream",
     "text": [
      "[1]\n"
     ]
    },
    {
     "name": "stderr",
     "output_type": "stream",
     "text": [
      "C:\\Users\\kaspe\\AppData\\Roaming\\Python\\Python310\\site-packages\\sklearn\\base.py:464: UserWarning: X does not have valid feature names, but DecisionTreeClassifier was fitted with feature names\n",
      "  warnings.warn(\n"
     ]
    }
   ],
   "source": [
    "print(dtree.predict([[3600,0.0029,0.51,10.69,0,6]]))"
   ]
  },
  {
   "cell_type": "code",
   "execution_count": 6,
   "metadata": {},
   "outputs": [
    {
     "name": "stdout",
     "output_type": "stream",
     "text": [
      "Accuracy: 1.0\n"
     ]
    }
   ],
   "source": [
    "#Predict the response for test dataset\n",
    "y_pred = dtree.predict(X_test)\n",
    "\n",
    "# Model Accuracy, how often is the classifier correct?\n",
    "print(\"Accuracy:\",metrics.accuracy_score(y_test, y_pred))"
   ]
  },
  {
   "cell_type": "code",
   "execution_count": 7,
   "metadata": {},
   "outputs": [],
   "source": [
    "pickle.dump(dtree , open('star_model' , 'wb')) #"
   ]
  }
 ],
 "metadata": {
  "kernelspec": {
   "display_name": "Python 3",
   "language": "python",
   "name": "python3"
  },
  "language_info": {
   "codemirror_mode": {
    "name": "ipython",
    "version": 3
   },
   "file_extension": ".py",
   "mimetype": "text/x-python",
   "name": "python",
   "nbconvert_exporter": "python",
   "pygments_lexer": "ipython3",
   "version": "3.10.1"
  },
  "orig_nbformat": 4
 },
 "nbformat": 4,
 "nbformat_minor": 2
}
