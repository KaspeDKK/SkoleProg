{
 "cells": [
  {
   "cell_type": "code",
   "execution_count": 26,
   "metadata": {},
   "outputs": [
    {
     "name": "stdout",
     "output_type": "stream",
     "text": [
      "     Culmen Length (mm)  Culmen Depth (mm)  Flipper Length (mm)  \\\n",
      "0                  39.1               18.7                181.0   \n",
      "1                  39.5               17.4                186.0   \n",
      "2                  40.3               18.0                195.0   \n",
      "4                  36.7               19.3                193.0   \n",
      "5                  39.3               20.6                190.0   \n",
      "..                  ...                ...                  ...   \n",
      "341                49.6               18.2                193.0   \n",
      "342                50.8               19.0                210.0   \n",
      "343                50.2               18.7                198.0   \n",
      "3                   NaN                NaN                  NaN   \n",
      "271                 NaN                NaN                  NaN   \n",
      "\n",
      "     Body Mass (g)                                    Species  \n",
      "0           3750.0        Adelie Penguin (Pygoscelis adeliae)  \n",
      "1           3800.0        Adelie Penguin (Pygoscelis adeliae)  \n",
      "2           3250.0        Adelie Penguin (Pygoscelis adeliae)  \n",
      "4           3450.0        Adelie Penguin (Pygoscelis adeliae)  \n",
      "5           3650.0        Adelie Penguin (Pygoscelis adeliae)  \n",
      "..             ...                                        ...  \n",
      "341         3775.0  Chinstrap penguin (Pygoscelis antarctica)  \n",
      "342         4100.0  Chinstrap penguin (Pygoscelis antarctica)  \n",
      "343         3775.0  Chinstrap penguin (Pygoscelis antarctica)  \n",
      "3              NaN        Adelie Penguin (Pygoscelis adeliae)  \n",
      "271            NaN          Gentoo penguin (Pygoscelis papua)  \n",
      "\n",
      "[344 rows x 5 columns]\n"
     ]
    }
   ],
   "source": [
    "import pandas as pd\n",
    "import numpy as np\n",
    "import matplotlib.pyplot as plt\n",
    "from sklearn import tree\n",
    "from sklearn.tree import DecisionTreeClassifier # Import Decision Tree Classifier\n",
    "from sklearn.model_selection import train_test_split # Import train_test_split function\n",
    "from sklearn import metrics #Import scikit-learn metrics module for accuracy calculation\n",
    "\n",
    "# Read the CSV file\n",
    "penguins = pd.read_csv(\"data/penguins.csv\")\n",
    "penguins_original = pd.read_csv(\"data/penguins.csv\")\n",
    "\n",
    "# Select columns with float64 data type\n",
    "penguins = penguins.select_dtypes(include='float64')\n",
    "\n",
    "# Remove specific columns & Empty Rows\n",
    "columns_to_remove = [\"Delta 15 N (o/oo)\", \"Delta 13 C (o/oo)\"]\n",
    "penguins = penguins.drop(columns=columns_to_remove)\n",
    "penguins = penguins.dropna()\n",
    "\n",
    "# Include the \"Species\" column from the original sheet\n",
    "species_column = penguins_original['Species']\n",
    "penguins = pd.concat([penguins, species_column], axis=1)\n",
    "\n",
    "print(penguins)"
   ]
  },
  {
   "cell_type": "code",
   "execution_count": 27,
   "metadata": {},
   "outputs": [
    {
     "data": {
      "text/html": [
       "<div>\n",
       "<style scoped>\n",
       "    .dataframe tbody tr th:only-of-type {\n",
       "        vertical-align: middle;\n",
       "    }\n",
       "\n",
       "    .dataframe tbody tr th {\n",
       "        vertical-align: top;\n",
       "    }\n",
       "\n",
       "    .dataframe thead th {\n",
       "        text-align: right;\n",
       "    }\n",
       "</style>\n",
       "<table border=\"1\" class=\"dataframe\">\n",
       "  <thead>\n",
       "    <tr style=\"text-align: right;\">\n",
       "      <th></th>\n",
       "      <th>Culmen Length (mm)</th>\n",
       "      <th>Culmen Depth (mm)</th>\n",
       "      <th>Flipper Length (mm)</th>\n",
       "      <th>Body Mass (g)</th>\n",
       "      <th>Species</th>\n",
       "    </tr>\n",
       "  </thead>\n",
       "  <tbody>\n",
       "    <tr>\n",
       "      <th>0</th>\n",
       "      <td>39.1</td>\n",
       "      <td>18.7</td>\n",
       "      <td>181.0</td>\n",
       "      <td>3750.0</td>\n",
       "      <td>0</td>\n",
       "    </tr>\n",
       "    <tr>\n",
       "      <th>1</th>\n",
       "      <td>39.5</td>\n",
       "      <td>17.4</td>\n",
       "      <td>186.0</td>\n",
       "      <td>3800.0</td>\n",
       "      <td>0</td>\n",
       "    </tr>\n",
       "    <tr>\n",
       "      <th>2</th>\n",
       "      <td>40.3</td>\n",
       "      <td>18.0</td>\n",
       "      <td>195.0</td>\n",
       "      <td>3250.0</td>\n",
       "      <td>0</td>\n",
       "    </tr>\n",
       "    <tr>\n",
       "      <th>4</th>\n",
       "      <td>36.7</td>\n",
       "      <td>19.3</td>\n",
       "      <td>193.0</td>\n",
       "      <td>3450.0</td>\n",
       "      <td>0</td>\n",
       "    </tr>\n",
       "    <tr>\n",
       "      <th>5</th>\n",
       "      <td>39.3</td>\n",
       "      <td>20.6</td>\n",
       "      <td>190.0</td>\n",
       "      <td>3650.0</td>\n",
       "      <td>0</td>\n",
       "    </tr>\n",
       "  </tbody>\n",
       "</table>\n",
       "</div>"
      ],
      "text/plain": [
       "   Culmen Length (mm)  Culmen Depth (mm)  Flipper Length (mm)  Body Mass (g)  \\\n",
       "0                39.1               18.7                181.0         3750.0   \n",
       "1                39.5               17.4                186.0         3800.0   \n",
       "2                40.3               18.0                195.0         3250.0   \n",
       "4                36.7               19.3                193.0         3450.0   \n",
       "5                39.3               20.6                190.0         3650.0   \n",
       "\n",
       "   Species  \n",
       "0        0  \n",
       "1        0  \n",
       "2        0  \n",
       "4        0  \n",
       "5        0  "
      ]
     },
     "execution_count": 27,
     "metadata": {},
     "output_type": "execute_result"
    }
   ],
   "source": [
    "d = {'Adelie Penguin (Pygoscelis adeliae)': 0, 'Chinstrap penguin (Pygoscelis antarctica)': 1, 'Gentoo penguin (Pygoscelis papua)': 2}\n",
    "penguins['Species'] = penguins['Species'].map(d)\n",
    "\n",
    "\n",
    "penguins.head()"
   ]
  },
  {
   "cell_type": "code",
   "execution_count": 28,
   "metadata": {},
   "outputs": [
    {
     "name": "stdout",
     "output_type": "stream",
     "text": [
      "     Culmen Length (mm)  Culmen Depth (mm)  Flipper Length (mm)  Body Mass (g)\n",
      "0                  39.1               18.7                181.0         3750.0\n",
      "1                  39.5               17.4                186.0         3800.0\n",
      "2                  40.3               18.0                195.0         3250.0\n",
      "4                  36.7               19.3                193.0         3450.0\n",
      "5                  39.3               20.6                190.0         3650.0\n",
      "..                  ...                ...                  ...            ...\n",
      "341                49.6               18.2                193.0         3775.0\n",
      "342                50.8               19.0                210.0         4100.0\n",
      "343                50.2               18.7                198.0         3775.0\n",
      "3                   NaN                NaN                  NaN            NaN\n",
      "271                 NaN                NaN                  NaN            NaN\n",
      "\n",
      "[344 rows x 4 columns]\n",
      "0      0\n",
      "1      0\n",
      "2      0\n",
      "4      0\n",
      "5      0\n",
      "      ..\n",
      "341    1\n",
      "342    1\n",
      "343    1\n",
      "3      0\n",
      "271    2\n",
      "Name: Species, Length: 344, dtype: int64\n"
     ]
    }
   ],
   "source": [
    "features = ['Culmen Length (mm)', 'Culmen Depth (mm)', 'Flipper Length (mm)', 'Body Mass (g)']\n",
    "\n",
    "X = penguins[features]\n",
    "y = penguins['Species']\n",
    "\n",
    "# Split dataset into training set and test set\n",
    "X_train, X_test, y_train, y_test = train_test_split(X, y, test_size=0.3, random_state=1) # 70% training and 30% test\n",
    "\n",
    "print(X)\n",
    "print(y)"
   ]
  },
  {
   "cell_type": "code",
   "execution_count": 35,
   "metadata": {},
   "outputs": [
    {
     "data": {
      "image/png": "[encoded data removed]",
      "text/plain": [
       "<Figure size 640x480 with 1 Axes>"
      ]
     },
     "metadata": {},
     "output_type": "display_data"
    }
   ],
   "source": [
    "dtree = DecisionTreeClassifier()\n",
    "dtree = dtree.fit(X_train,y_train)\n",
    "\n",
    "tree.plot_tree(dtree, feature_names=features)\n",
    "\n",
    "# Save the figure to a file\n",
    "plt.savefig('penguins_plot.png', dpi=300, format='png')\n"
   ]
  },
  {
   "cell_type": "markdown",
   "metadata": {},
   "source": [
    "\t39.5\t17.4\t186.0\t3800.0\t0 -> Adelie Penguin"
   ]
  },
  {
   "cell_type": "code",
   "execution_count": 30,
   "metadata": {},
   "outputs": [
    {
     "name": "stdout",
     "output_type": "stream",
     "text": [
      "[0]\n"
     ]
    },
    {
     "name": "stderr",
     "output_type": "stream",
     "text": [
      "C:\\Users\\kaspe\\AppData\\Roaming\\Python\\Python310\\site-packages\\sklearn\\base.py:464: UserWarning: X does not have valid feature names, but DecisionTreeClassifier was fitted with feature names\n",
      "  warnings.warn(\n"
     ]
    }
   ],
   "source": [
    "print(dtree.predict([[39.5, 17.4, 186.0, 3800.0]]))"
   ]
  },
  {
   "cell_type": "code",
   "execution_count": 36,
   "metadata": {},
   "outputs": [
    {
     "name": "stdout",
     "output_type": "stream",
     "text": [
      "Accuracy: 0.9519230769230769\n"
     ]
    }
   ],
   "source": [
    "#Predict the response for test dataset\n",
    "y_pred = dtree.predict(X_test)\n",
    "\n",
    "# Model Accuracy, how often is the classifier correct?\n",
    "print(\"Accuracy:\",metrics.accuracy_score(y_test, y_pred))"
   ]
  }
 ],
 "metadata": {
  "kernelspec": {
   "display_name": "Python 3",
   "language": "python",
   "name": "python3"
  },
  "language_info": {
   "codemirror_mode": {
    "name": "ipython",
    "version": 3
   },
   "file_extension": ".py",
   "mimetype": "text/x-python",
   "name": "python",
   "nbconvert_exporter": "python",
   "pygments_lexer": "ipython3",
   "version": "3.10.1"
  },
  "orig_nbformat": 4
 },
 "nbformat": 4,
 "nbformat_minor": 2
}
